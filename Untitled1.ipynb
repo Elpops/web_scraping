{
 "cells": [
  {
   "cell_type": "code",
   "execution_count": 25,
   "id": "ccbe2f7d-2d41-461a-8189-a4f1e072d5c3",
   "metadata": {},
   "outputs": [],
   "source": [
    "from bs4 import BeautifulSoup\n",
    "import lxml\n",
    "import requests\n",
    "from selenium import webdriver\n",
    "from selenium.webdriver.common.by import By\n",
    "import time\n",
    "import re\n",
    "from lxml import etree\n",
    "import pandas as pd"
   ]
  },
  {
   "cell_type": "code",
   "execution_count": 26,
   "id": "b11a208f-e2b4-4e8d-8c97-5a452a8ea857",
   "metadata": {
    "tags": []
   },
   "outputs": [],
   "source": [
    "def create_row(soup):\n",
    "    # Creating a row\n",
    "    row = []\n",
    "    \n",
    "    # find product name\n",
    "    product_name = soup.find(\"h1\", class_=\"productName_title\").text.strip()\n",
    "    row.append(product_name)\n",
    "    \n",
    "    # find price\n",
    "    price_text = soup.find(\"p\", class_=\"productPrice_price\").text.strip()\n",
    "    #price_re = re.compile(r'\\d,\\d+')\n",
    "    #matched_re = price_re.search(price_text)\n",
    "    #filtered_price = matched_re.group(0)\n",
    "    row.append(price_text)\n",
    "\n",
    "    # find aroma\n",
    "    def hasSelected(tag):\n",
    "        return tag.has_attr(\"selected\")\n",
    "    options_tag = soup.find_all(id=\"athena-product-variation-dropdown-5\")[0]\n",
    "    full_text_aroma = options_tag.find(hasSelected).text.strip()\n",
    "    row.append(full_text_aroma)\n",
    "\n",
    "    def ButtonSelected(tag):\n",
    "        return tag.has_attr(\"data-selected\")\n",
    "\n",
    "    def get_quantity(full_text):\n",
    "        r = re.compile(\"(\\d+\\s[A-Za-z])\")\n",
    "        m = r.search(full_text)\n",
    "        quantity = m.groups()[0]\n",
    "        return quantity\n",
    "\n",
    "    all_buttons = soup.find_all(\"button\", class_ = \"athenaProductVariations_box default athenaProductVariationsOption\")\n",
    "    full_text_quantity = list(filter(lambda x : x.has_attr(\"data-selected\"), all_buttons))[0].text.strip()\n",
    "    quantity =  get_quantity(full_text_quantity)\n",
    "    row.append(full_text_quantity)\n",
    "\n",
    "    try:\n",
    "        economie = soup.find(\"p\", class_ = \"productPrice_savingAmount\").text.strip()\n",
    "    except AttributeError as e:\n",
    "        print(f\"no economie found for prduct {product_name}!\")\n",
    "        economie = \"0\"\n",
    "    row.append(economie)\n",
    "\n",
    "    try:\n",
    "        prix_conseille = soup.find(\"p\", class_ = \"productPrice_rrp\").text.strip()\n",
    "    except AttributeError as e:\n",
    "        print(f\"no prix conseille found for prduct {product_name}!\")\n",
    "        prix_conseille = \"0\"\n",
    "    row.append(prix_conseille)\n",
    "\n",
    "    try:\n",
    "        texte_promotion = soup.find(id=\"pap-banner-text-value\").find(\"b\").text.strip()\n",
    "    except AttributeError as e:\n",
    "        texte_promotion = \"0\"\n",
    "    row.append(texte_promotion)\n",
    "\n",
    "    regime = \"/\".join([regime.text for regime in soup.find_all(\"div\", class_=\"productTags_pillIcon\")])\n",
    "    row.append(regime)\n",
    "    \n",
    "    product_reviews = soup.find(\"a\", class_=\"productReviewStars\")\n",
    "    stars = product_reviews.find(\"svg\", class_=\"productReviewStarsPresentational\").attrs[\"aria-label\"].strip()\n",
    "    reviews_count = product_reviews.find(\"span\", class_=\"productReviewStars_numberOfReviews\").text.strip()\n",
    "    #documentObjectModel = etree.HTML(str(soup))\n",
    "    #energy = documentObjectModel.xpath(\"//*[@id='product-description-content-8']/div/div/div/table/tbody/tr[1]/td[2]\")[0].text.strip()\n",
    "    #lipids = documentObjectModel.xpath(\"//*[@id='product-description-content-8']/div/div/div/table/tbody/tr[2]/td[2]\")[0].text.strip()\n",
    "    #carbohydrates =   documentObjectModel.xpath(\"//*[@id='product-description-content-8']/div/div/div/table/tbody/tr[4]/td[2]\")[0].text.strip()\n",
    "    #proteins =   documentObjectModel.xpath(\"//*[@id='product-description-content-8']/div/div/div/table/tbody/tr[6]/td[2]\")[0].text.strip()\n",
    "    #note = documentObjectModel.xpath(\"//*[@id='athenaProductReviewsComponent']/div/div[2]/div[2]/div[1]/div/div[1]/div/div/span\")[0].text.strip()\n",
    "    #avis_clients = documentObjectModel.xpath(\"/html/body/main/div[8]/div/div/div[2]/div[2]/div[1]/div/div[1]/div/p\")[0].text.strip()\n",
    "    #row.extend([energy, lipids, carbohydrates, proteins, note, avis_clients])\n",
    "    \n",
    "    return row\n",
    "\n",
    "def get_soup_from_url(url):\n",
    "    response = requests.get(url)\n",
    "    response.raise_for_status()\n",
    "    soup = BeautifulSoup(response.content ,\"lxml\")\n",
    "    return soup.find(\"main\")\n",
    "\n",
    "def get_soup_from_html(html_page):\n",
    "    soup = BeautifulSoup(html_page ,\"lxml\")\n",
    "    return soup.find(\"main\")\n",
    "\n",
    "def get_df_for_product(driver, url):\n",
    "    \n",
    "    df = pd.DataFrame(columns = ['nom', 'prix', 'arome', 'quantite', 'economies', 'prix original','promotion','régimes','energie','lipides','glucides','proteines','note','avis clients'])\n",
    "    mini_soup = get_soup_from_url(url)\n",
    "    documentObjectModel = etree.HTML(str(mini_soup))\n",
    "    options_tag = documentObjectModel.xpath(\"//*[@id='athena-product-variation-dropdown-5']\")[0]\n",
    "    options_range = len(options_tag.getchildren())\n",
    "    print(f\"OPTIONS RANGE {options_range}\")\n",
    "    # for testing purposes\n",
    "    options_range = 2\n",
    "    for i in range(1, options_range +1):\n",
    "        try:\n",
    "            driver.find_element(By.XPATH, f\"//*[@id='athena-product-variation-dropdown-5']/option[{i}]\").click()\n",
    "        except Exception as e :\n",
    "            print(e)\n",
    "            faulty_element = driver.find_element(By.XPATH, f\"//*[@id='athena-product-variation-dropdown-5']/option[{i}]\")\n",
    "            exceptions.append((i,e, faulty_element))\n",
    "            continue\n",
    "        time.sleep(0.5)\n",
    "        temp_soup = get_soup_from_html(driver.page_source)\n",
    "        #temp_soup = BeautifulSoup(driver.page_source ,\"lxml\")\n",
    "        #temp_soup = temp_soup.find(\"main\")\n",
    "        quantities_range = len(temp_soup.find_all(\"ul\", class_ = \"athenaProductVariations_list\")[0].find_all(\"li\"))\n",
    "        print(f\"QUANTITIES RANGE {quantities_range}\")\n",
    "        for i in range(1, quantities_range + 1):\n",
    "            driver.find_element(By.XPATH, f\"//ul[@class='athenaProductVariations_list']/li[{str(i)}]/button[1]\").click()\n",
    "            time.sleep(0.2)\n",
    "            soup = BeautifulSoup(driver.page_source ,\"lxml\")\n",
    "            mini_soup = soup.find(\"main\")\n",
    "            df.loc[len(df)] = create_row(mini_soup)\n",
    "        \n",
    "    return df\n",
    "\n",
    "main_url = \"https://fr.myprotein.com\"\n",
    "url = \"https://fr.myprotein.com/nutrition-sportive/impact-whey-protein/10530943.html\"\n",
    "\n",
    "#driver = webdriver.Chrome(executable_path=\"C:\\chromedriver.exe\")\n",
    "#driver.implicitly_wait(0.5)\n",
    "#driver.get(url)\n",
    "#driver.find_element(By.ID, 'onetrust-accept-btn-handler').click()\n",
    "#driver.find_element(By.XPATH, f\"//*[@id='product-description-heading-lg-8']\").click()\n",
    "\n",
    "#df = get_df_for_product(driver, url)\n",
    "\n",
    "#response = requests.get(url)\n",
    "#soup = BeautifulSoup(response.content ,\"lxml\")\n",
    "#mini_soup = soup.find(\"main\")\n",
    "#documentObjectModel = etree.HTML(str(mini_soup))\n",
    "#options_tag = documentObjectModel.xpath(\"//*[@id='athena-product-variation-dropdown-5']\")[0]\n",
    "#options_range = len(options_tag.getchildren())\n",
    "#print(f\"OPTIONS RANGE {options_range}\")"
   ]
  },
  {
   "cell_type": "markdown",
   "id": "388f25f6-a96a-48be-8402-244b1171c6e3",
   "metadata": {},
   "source": [
    "# PLAYGROUND"
   ]
  },
  {
   "cell_type": "code",
   "execution_count": 41,
   "id": "27482469-9c9a-41c7-b040-261b870efad6",
   "metadata": {},
   "outputs": [],
   "source": [
    "url = \"https://fr.myprotein.com/nutrition-sportive/impact-diet-whey/10530657.html\"\n",
    "\n",
    "def get_soup_from_url(url):\n",
    "    response = requests.get(url)\n",
    "    response.raise_for_status()\n",
    "    soup = BeautifulSoup(response.content ,\"lxml\")\n",
    "    return soup.find(\"main\")"
   ]
  },
  {
   "cell_type": "code",
   "execution_count": 43,
   "id": "e00868c7-82c9-44cd-a22f-ee595ec89740",
   "metadata": {},
   "outputs": [],
   "source": [
    "main_soup = get_soup(url)"
   ]
  },
  {
   "cell_type": "code",
   "execution_count": 48,
   "id": "dca8085f-5b2a-4317-91a8-4fd868d359cc",
   "metadata": {},
   "outputs": [],
   "source": []
  },
  {
   "cell_type": "code",
   "execution_count": 50,
   "id": "ced7ef07-ec5c-4d7e-abc5-553bf8ab312d",
   "metadata": {},
   "outputs": [
    {
     "data": {
      "text/plain": [
       "'956 Avis Clients'"
      ]
     },
     "execution_count": 50,
     "metadata": {},
     "output_type": "execute_result"
    }
   ],
   "source": [
    "reviews_count"
   ]
  },
  {
   "cell_type": "code",
   "execution_count": 10,
   "id": "554b2af3-b1cb-4047-a0cd-28d6b24ab8ac",
   "metadata": {},
   "outputs": [],
   "source": [
    "url = \"https://fr.myprotein.com/nutrition-sportive/the-whey/11353515.html\"\n",
    "response = requests.get(url)\n",
    "soup = BeautifulSoup(response.content ,\"lxml\")\n",
    "mini_soup = soup.find(\"main\")"
   ]
  },
  {
   "cell_type": "code",
   "execution_count": 39,
   "id": "493fee68-cf62-4af1-83d8-f07723c99f6d",
   "metadata": {},
   "outputs": [
    {
     "name": "stdout",
     "output_type": "stream",
     "text": [
      "list index out of range\n",
      "list index out of range\n",
      "{'Valeur énergétique': '1588kJ/375kcal', 'Matières grasses': '3,1g', '(dont graisses saturées)': '1,9g', 'Glucides': '8,6g', '(dont sucres)': '3,9g', 'Protéines': '77g', 'Sel': '0,70g', 'Substances actives': '\\xa0', 'L-leucine': '10g', 'L-isoleucine': '6,3g', 'L-valine': '5,7g', 'BC30®': '2,9\\xa0milliards d’UFC'}\n",
      "list index out of range\n",
      "list index out of range\n",
      "{'Valeur énergétique': '1563kJ/369kcal', 'Matières grasses': '3,3g', '(dont graisses saturées)': '2,0g', 'Glucides': '8,6g', '(dont sucres)': '3,4g', 'Protéines': '75g', 'Sel': '1,3g', 'Substances actives': '\\xa0', 'L-leucine': '9,6g', 'L-isoleucine': '6,0g', 'L-valine': '5,4g', 'BC30®': '2,9\\xa0milliards d’UFC'}\n",
      "list index out of range\n",
      "list index out of range\n",
      "{'Valeur énergétique': '1571kJ/371kcal', 'Matières grasses': '3,3g', '(dont graisses saturées)': '2,0g', 'Glucides': '7,8g', '(dont sucres)': '3,5g', 'Protéines': '76g', 'Sel': '1,4g', 'Substances actives': '\\xa0', 'L-leucine': '9,8g', 'L-isoleucine': '6,1g', 'L-valine': '5,5g', 'BC30®': '2,9\\xa0milliards d’UFC'}\n",
      "list index out of range\n",
      "list index out of range\n",
      "{'Valeur énergétique': '1540kJ/363kcal', 'Matières grasses': '3,5g', '(dont graisses saturées)': '2,1g', 'Glucides': '6,3g', '(dont sucres)': '4,6g', 'Protéines': '76g', 'Sel': '0,50g', 'Substances actives': '\\xa0', 'L-leucine': '9,8g', 'L-isoleucine': '6,1g', 'L-valine': '5,5g', 'BC30®': '2,9\\xa0milliards d’UFC'}\n",
      "list index out of range\n",
      "list index out of range\n",
      "{'Valeur énergétique': '1601kJ/378kcal', 'Matières grasses': '3,1g', '(dont graisses saturées)': '1,8g', 'Glucides': '12g', '(dont sucres)': '5,2g', 'Protéines': '75g', 'Sel': '0,47g', 'Substances actives': '\\xa0', 'L-leucine': '9,7g', 'L-isoleucine': '6,0g', 'L-valine': '5,4g', 'BC30®': '2,9\\xa0milliards d’UFC'}\n",
      "list index out of range\n",
      "list index out of range\n",
      "{'Valeur énergétique': '1597kJ/377kcal', 'Matières grasses': '3,4g', '(dont graisses saturées)': '2,0g', 'Glucides': '8,1g', '(dont sucres)': '4,3g', 'Protéines': '78g', 'Sel': '0,50g', 'Substances actives': '\\xa0', 'L-leucine': '10g', 'L-isoleucine': '6,3g', 'L-valine': '5,7g', 'BC30®': '3,0\\xa0milliards d’UFC'}\n",
      "list index out of range\n",
      "list index out of range\n",
      "{'Valeur énergétique': '1562kJ/369kcal', 'Matières grasses': '3,3g', '(dont graisses saturées)': '2,0g', 'Glucides': '8,5g', '(dont sucres)': '3,4g', 'Protéines': '75g', 'Sel': '1,3g', 'Substances actives': '\\xa0', 'L-leucine': '9,6g', 'L-isoleucine': '6,0g', 'L-valine': '5,4g', 'BC30®': '2,9\\xa0milliards d’UFC'}\n",
      "list index out of range\n",
      "list index out of range\n",
      "{'Valeur énergétique': '1603kJ/378kcal', 'Matières grasses': '3,2g', '(dont graisses saturées)': '1,9g', 'Glucides': '8,9g', '(dont sucres)': '5,2g', 'Protéines': '78g', 'Sel': '0,50g', 'Substances actives': '\\xa0', 'L-leucine': '10g', 'L-isoleucine': '6,3g', 'L-valine': '5,7g', 'BC30®': '3,0\\xa0milliards d’UFC'}\n"
     ]
    }
   ],
   "source": [
    "div_table_nutritional_value = mini_soup.find(id=\"product-description-content-lg-8\")\n",
    "for table in div_table_nutritional_value.find_all(\"table\"):\n",
    "    get_nutritional_value(table)"
   ]
  },
  {
   "cell_type": "code",
   "execution_count": 37,
   "id": "0ff4be2a-fdc9-4bde-be3a-b1bddd323808",
   "metadata": {},
   "outputs": [],
   "source": [
    "def get_nutritional_value(table):\n",
    "    tr_list = table.find_all(\"tr\")\n",
    "    d = {}\n",
    "    for tr in tr_list:\n",
    "        elems = tr.find_all(\"td\")\n",
    "        try :\n",
    "            d[elems[0].text] = elems[1].text\n",
    "        except IndexError as e:\n",
    "            print(e)\n",
    "    print(d)\n",
    "    reg_energie = r'[eé]nerg\\w*'\n",
    "    reg_lipides = r'gras|lipid'\n",
    "    reg_proteines = r'prot'\n",
    "    reg_glucides = r'gluc'\n",
    "    \n",
    "    def get_key(regex, d):\n",
    "        r = re.compile(regex)\n",
    "        for k in d.keys():\n",
    "            if bool(r.search(k.lower())) == True:\n",
    "                return k\n",
    "    l = []  \n",
    "    key_energie = get_key(reg_energie, d)\n",
    "    key_lipides = get_key(reg_lipides, d)\n",
    "    key_proteines = get_key(reg_proteines, d)\n",
    "    key_glucides = get_key(reg_glucides, d)\n",
    "    l.extend(\n",
    "       [d[key_energie],\n",
    "        d[key_lipides],\n",
    "        d[key_glucides],\n",
    "       d[key_proteines]]\n",
    "    )\n",
    "    return l"
   ]
  },
  {
   "cell_type": "code",
   "execution_count": 40,
   "id": "8aabced8-11fb-4f75-860d-f991bd0302c6",
   "metadata": {},
   "outputs": [
    {
     "name": "stderr",
     "output_type": "stream",
     "text": [
      "C:\\Users\\HAI\\AppData\\Local\\Temp/ipykernel_30736/2110549563.py:3: DeprecationWarning: executable_path has been deprecated, please pass in a Service object\n",
      "  driver = webdriver.Chrome(executable_path=\"C:\\chromedriver.exe\")\n"
     ]
    },
    {
     "name": "stdout",
     "output_type": "stream",
     "text": [
      "/nutrition-sportive/impact-whey-protein/10530943.html\n",
      "OPTIONS RANGE 40\n",
      "QUANTITIES RANGE 4\n",
      "QUANTITIES RANGE 2\n",
      "/nutrition-sportive/clear-whey-isolate/12081395.html\n",
      "OPTIONS RANGE 24\n",
      "QUANTITIES RANGE 2\n",
      "no economie found for prduct Clear Whey Isolate!\n",
      "no prix conseille found for prduct Clear Whey Isolate!\n",
      "no economie found for prduct Clear Whey Isolate!\n",
      "no prix conseille found for prduct Clear Whey Isolate!\n",
      "QUANTITIES RANGE 1\n",
      "no economie found for prduct Clear Whey Isolate!\n",
      "no prix conseille found for prduct Clear Whey Isolate!\n",
      "/nutrition-sportive/impact-whey-isolate/10530911.html\n",
      "OPTIONS RANGE 17\n",
      "QUANTITIES RANGE 2\n",
      "QUANTITIES RANGE 3\n",
      "/nutrition-sportive/impact-diet-whey/10530657.html\n",
      "OPTIONS RANGE 9\n",
      "QUANTITIES RANGE 2\n"
     ]
    },
    {
     "ename": "IndexError",
     "evalue": "list index out of range",
     "output_type": "error",
     "traceback": [
      "\u001b[1;31m---------------------------------------------------------------------------\u001b[0m",
      "\u001b[1;31mIndexError\u001b[0m                                Traceback (most recent call last)",
      "\u001b[1;32m~\\AppData\\Local\\Temp/ipykernel_30736/2110549563.py\u001b[0m in \u001b[0;36m<module>\u001b[1;34m\u001b[0m\n\u001b[0;32m     17\u001b[0m         \u001b[0mdriver\u001b[0m\u001b[1;33m.\u001b[0m\u001b[0mfind_element\u001b[0m\u001b[1;33m(\u001b[0m\u001b[0mBy\u001b[0m\u001b[1;33m.\u001b[0m\u001b[0mID\u001b[0m\u001b[1;33m,\u001b[0m \u001b[1;34m'onetrust-accept-btn-handler'\u001b[0m\u001b[1;33m)\u001b[0m\u001b[1;33m.\u001b[0m\u001b[0mclick\u001b[0m\u001b[1;33m(\u001b[0m\u001b[1;33m)\u001b[0m\u001b[1;33m\u001b[0m\u001b[1;33m\u001b[0m\u001b[0m\n\u001b[0;32m     18\u001b[0m     \u001b[0mdriver\u001b[0m\u001b[1;33m.\u001b[0m\u001b[0mfind_element\u001b[0m\u001b[1;33m(\u001b[0m\u001b[0mBy\u001b[0m\u001b[1;33m.\u001b[0m\u001b[0mXPATH\u001b[0m\u001b[1;33m,\u001b[0m \u001b[1;34mf\"//*[@id='product-description-heading-lg-8']\"\u001b[0m\u001b[1;33m)\u001b[0m\u001b[1;33m.\u001b[0m\u001b[0mclick\u001b[0m\u001b[1;33m(\u001b[0m\u001b[1;33m)\u001b[0m\u001b[1;33m\u001b[0m\u001b[1;33m\u001b[0m\u001b[0m\n\u001b[1;32m---> 19\u001b[1;33m     \u001b[0mdf\u001b[0m \u001b[1;33m=\u001b[0m \u001b[0mget_df_for_product\u001b[0m\u001b[1;33m(\u001b[0m\u001b[0mdriver\u001b[0m\u001b[1;33m,\u001b[0m \u001b[0murl\u001b[0m\u001b[1;33m)\u001b[0m\u001b[1;33m\u001b[0m\u001b[1;33m\u001b[0m\u001b[0m\n\u001b[0m\u001b[0;32m     20\u001b[0m     \u001b[0ml\u001b[0m\u001b[1;33m.\u001b[0m\u001b[0mappend\u001b[0m\u001b[1;33m(\u001b[0m\u001b[0mdf\u001b[0m\u001b[1;33m)\u001b[0m\u001b[1;33m\u001b[0m\u001b[1;33m\u001b[0m\u001b[0m\n",
      "\u001b[1;32m~\\AppData\\Local\\Temp/ipykernel_30736/3688632382.py\u001b[0m in \u001b[0;36mget_df_for_product\u001b[1;34m(driver, url)\u001b[0m\n\u001b[0;32m     98\u001b[0m             \u001b[0msoup\u001b[0m \u001b[1;33m=\u001b[0m \u001b[0mBeautifulSoup\u001b[0m\u001b[1;33m(\u001b[0m\u001b[0mdriver\u001b[0m\u001b[1;33m.\u001b[0m\u001b[0mpage_source\u001b[0m \u001b[1;33m,\u001b[0m\u001b[1;34m\"lxml\"\u001b[0m\u001b[1;33m)\u001b[0m\u001b[1;33m\u001b[0m\u001b[1;33m\u001b[0m\u001b[0m\n\u001b[0;32m     99\u001b[0m             \u001b[0mmini_soup\u001b[0m \u001b[1;33m=\u001b[0m \u001b[0msoup\u001b[0m\u001b[1;33m.\u001b[0m\u001b[0mfind\u001b[0m\u001b[1;33m(\u001b[0m\u001b[1;34m\"main\"\u001b[0m\u001b[1;33m)\u001b[0m\u001b[1;33m\u001b[0m\u001b[1;33m\u001b[0m\u001b[0m\n\u001b[1;32m--> 100\u001b[1;33m             \u001b[0mdf\u001b[0m\u001b[1;33m.\u001b[0m\u001b[0mloc\u001b[0m\u001b[1;33m[\u001b[0m\u001b[0mlen\u001b[0m\u001b[1;33m(\u001b[0m\u001b[0mdf\u001b[0m\u001b[1;33m)\u001b[0m\u001b[1;33m]\u001b[0m \u001b[1;33m=\u001b[0m \u001b[0mcreate_row\u001b[0m\u001b[1;33m(\u001b[0m\u001b[0mmini_soup\u001b[0m\u001b[1;33m)\u001b[0m\u001b[1;33m\u001b[0m\u001b[1;33m\u001b[0m\u001b[0m\n\u001b[0m\u001b[0;32m    101\u001b[0m \u001b[1;33m\u001b[0m\u001b[0m\n\u001b[0;32m    102\u001b[0m     \u001b[1;32mreturn\u001b[0m \u001b[0mdf\u001b[0m\u001b[1;33m\u001b[0m\u001b[1;33m\u001b[0m\u001b[0m\n",
      "\u001b[1;32m~\\AppData\\Local\\Temp/ipykernel_30736/3688632382.py\u001b[0m in \u001b[0;36mcreate_row\u001b[1;34m(soup)\u001b[0m\n\u001b[0;32m     59\u001b[0m \u001b[1;33m\u001b[0m\u001b[0m\n\u001b[0;32m     60\u001b[0m     \u001b[0mdocumentObjectModel\u001b[0m \u001b[1;33m=\u001b[0m \u001b[0metree\u001b[0m\u001b[1;33m.\u001b[0m\u001b[0mHTML\u001b[0m\u001b[1;33m(\u001b[0m\u001b[0mstr\u001b[0m\u001b[1;33m(\u001b[0m\u001b[0msoup\u001b[0m\u001b[1;33m)\u001b[0m\u001b[1;33m)\u001b[0m\u001b[1;33m\u001b[0m\u001b[1;33m\u001b[0m\u001b[0m\n\u001b[1;32m---> 61\u001b[1;33m     \u001b[0menergy\u001b[0m \u001b[1;33m=\u001b[0m \u001b[0mdocumentObjectModel\u001b[0m\u001b[1;33m.\u001b[0m\u001b[0mxpath\u001b[0m\u001b[1;33m(\u001b[0m\u001b[1;34m\"//*[@id='product-description-content-8']/div/div/div/table/tbody/tr[1]/td[2]\"\u001b[0m\u001b[1;33m)\u001b[0m\u001b[1;33m[\u001b[0m\u001b[1;36m0\u001b[0m\u001b[1;33m]\u001b[0m\u001b[1;33m.\u001b[0m\u001b[0mtext\u001b[0m\u001b[1;33m.\u001b[0m\u001b[0mstrip\u001b[0m\u001b[1;33m(\u001b[0m\u001b[1;33m)\u001b[0m\u001b[1;33m\u001b[0m\u001b[1;33m\u001b[0m\u001b[0m\n\u001b[0m\u001b[0;32m     62\u001b[0m     \u001b[0mlipids\u001b[0m \u001b[1;33m=\u001b[0m \u001b[0mdocumentObjectModel\u001b[0m\u001b[1;33m.\u001b[0m\u001b[0mxpath\u001b[0m\u001b[1;33m(\u001b[0m\u001b[1;34m\"//*[@id='product-description-content-8']/div/div/div/table/tbody/tr[2]/td[2]\"\u001b[0m\u001b[1;33m)\u001b[0m\u001b[1;33m[\u001b[0m\u001b[1;36m0\u001b[0m\u001b[1;33m]\u001b[0m\u001b[1;33m.\u001b[0m\u001b[0mtext\u001b[0m\u001b[1;33m.\u001b[0m\u001b[0mstrip\u001b[0m\u001b[1;33m(\u001b[0m\u001b[1;33m)\u001b[0m\u001b[1;33m\u001b[0m\u001b[1;33m\u001b[0m\u001b[0m\n\u001b[0;32m     63\u001b[0m     \u001b[0mcarbohydrates\u001b[0m \u001b[1;33m=\u001b[0m   \u001b[0mdocumentObjectModel\u001b[0m\u001b[1;33m.\u001b[0m\u001b[0mxpath\u001b[0m\u001b[1;33m(\u001b[0m\u001b[1;34m\"//*[@id='product-description-content-8']/div/div/div/table/tbody/tr[4]/td[2]\"\u001b[0m\u001b[1;33m)\u001b[0m\u001b[1;33m[\u001b[0m\u001b[1;36m0\u001b[0m\u001b[1;33m]\u001b[0m\u001b[1;33m.\u001b[0m\u001b[0mtext\u001b[0m\u001b[1;33m.\u001b[0m\u001b[0mstrip\u001b[0m\u001b[1;33m(\u001b[0m\u001b[1;33m)\u001b[0m\u001b[1;33m\u001b[0m\u001b[1;33m\u001b[0m\u001b[0m\n",
      "\u001b[1;31mIndexError\u001b[0m: list index out of range"
     ]
    }
   ],
   "source": [
    "main_url = \"https://fr.myprotein.com\"\n",
    "url = \"https://fr.myprotein.com/nutrition/protein.list\"\n",
    "driver = webdriver.Chrome(executable_path=\"C:\\chromedriver.exe\")\n",
    "driver.implicitly_wait(0.5)\n",
    "\n",
    "response = requests.get(url)\n",
    "soup = BeautifulSoup(response.content ,\"lxml\")\n",
    "mini_soup = soup.find(\"main\")\n",
    "products_list = mini_soup.find_all(\"ul\", class_=\"productListProducts_products\")[0].find_all(\"li\")\n",
    "links_to_products = [product.find(\"a\", class_=\"athenaProductBlock_linkImage\").attrs[\"href\"] for product in products_list ]\n",
    "l = []\n",
    "for i, link in enumerate(links_to_products):\n",
    "    print(link)\n",
    "    url = main_url + link\n",
    "    driver.get(url)\n",
    "    if i == 0:\n",
    "        driver.find_element(By.ID, 'onetrust-accept-btn-handler').click()\n",
    "    driver.find_element(By.XPATH, f\"//*[@id='product-description-heading-lg-8']\").click()\n",
    "    df = get_df_for_product(driver, url)\n",
    "    l.append(df)"
   ]
  },
  {
   "cell_type": "code",
   "execution_count": 21,
   "id": "327068a1-0234-4573-b866-79da0911b554",
   "metadata": {},
   "outputs": [],
   "source": []
  },
  {
   "cell_type": "code",
   "execution_count": 26,
   "id": "606ddb29-721c-46ff-8f11-b97b5c4aa5c7",
   "metadata": {},
   "outputs": [
    {
     "ename": "ElementNotInteractableException",
     "evalue": "Message: element not interactable\n  (Session info: chrome=109.0.5414.120)\nStacktrace:\nBacktrace:\n\t(No symbol) [0x007B6643]\n\t(No symbol) [0x0074BE21]\n\t(No symbol) [0x0064D960]\n\t(No symbol) [0x006823A7]\n\t(No symbol) [0x00676B13]\n\t(No symbol) [0x0069FD7C]\n\t(No symbol) [0x0067641F]\n\t(No symbol) [0x006A00D4]\n\t(No symbol) [0x006B6B09]\n\t(No symbol) [0x0069FB76]\n\t(No symbol) [0x006749C1]\n\t(No symbol) [0x00675E5D]\n\tGetHandleVerifier [0x00A2A142+2497106]\n\tGetHandleVerifier [0x00A585D3+2686691]\n\tGetHandleVerifier [0x00A5BB9C+2700460]\n\tGetHandleVerifier [0x00863B10+635936]\n\t(No symbol) [0x00754A1F]\n\t(No symbol) [0x0075A418]\n\t(No symbol) [0x0075A505]\n\t(No symbol) [0x0076508B]\n\tBaseThreadInitThunk [0x76A400F9+25]\n\tRtlGetAppContainerNamedObjectPath [0x770E7BBE+286]\n\tRtlGetAppContainerNamedObjectPath [0x770E7B8E+238]\n",
     "output_type": "error",
     "traceback": [
      "\u001b[1;31m---------------------------------------------------------------------------\u001b[0m",
      "\u001b[1;31mElementNotInteractableException\u001b[0m           Traceback (most recent call last)",
      "\u001b[1;32m~\\AppData\\Local\\Temp/ipykernel_13388/1963002156.py\u001b[0m in \u001b[0;36m<module>\u001b[1;34m\u001b[0m\n\u001b[1;32m----> 1\u001b[1;33m \u001b[0mdriver\u001b[0m\u001b[1;33m.\u001b[0m\u001b[0mfind_element\u001b[0m\u001b[1;33m(\u001b[0m\u001b[0mBy\u001b[0m\u001b[1;33m.\u001b[0m\u001b[0mXPATH\u001b[0m\u001b[1;33m,\u001b[0m \u001b[1;34mf\"//*[@id='mainContent']/div[4]/nav/ul/li[5]/button\"\u001b[0m\u001b[1;33m)\u001b[0m\u001b[1;33m.\u001b[0m\u001b[0mclick\u001b[0m\u001b[1;33m(\u001b[0m\u001b[1;33m)\u001b[0m\u001b[1;33m\u001b[0m\u001b[1;33m\u001b[0m\u001b[0m\n\u001b[0m",
      "\u001b[1;32m~\\Anaconda3\\lib\\site-packages\\selenium\\webdriver\\remote\\webelement.py\u001b[0m in \u001b[0;36mclick\u001b[1;34m(self)\u001b[0m\n\u001b[0;32m     91\u001b[0m     \u001b[1;32mdef\u001b[0m \u001b[0mclick\u001b[0m\u001b[1;33m(\u001b[0m\u001b[0mself\u001b[0m\u001b[1;33m)\u001b[0m \u001b[1;33m->\u001b[0m \u001b[1;32mNone\u001b[0m\u001b[1;33m:\u001b[0m\u001b[1;33m\u001b[0m\u001b[1;33m\u001b[0m\u001b[0m\n\u001b[0;32m     92\u001b[0m         \u001b[1;34m\"\"\"Clicks the element.\"\"\"\u001b[0m\u001b[1;33m\u001b[0m\u001b[1;33m\u001b[0m\u001b[0m\n\u001b[1;32m---> 93\u001b[1;33m         \u001b[0mself\u001b[0m\u001b[1;33m.\u001b[0m\u001b[0m_execute\u001b[0m\u001b[1;33m(\u001b[0m\u001b[0mCommand\u001b[0m\u001b[1;33m.\u001b[0m\u001b[0mCLICK_ELEMENT\u001b[0m\u001b[1;33m)\u001b[0m\u001b[1;33m\u001b[0m\u001b[1;33m\u001b[0m\u001b[0m\n\u001b[0m\u001b[0;32m     94\u001b[0m \u001b[1;33m\u001b[0m\u001b[0m\n\u001b[0;32m     95\u001b[0m     \u001b[1;32mdef\u001b[0m \u001b[0msubmit\u001b[0m\u001b[1;33m(\u001b[0m\u001b[0mself\u001b[0m\u001b[1;33m)\u001b[0m\u001b[1;33m:\u001b[0m\u001b[1;33m\u001b[0m\u001b[1;33m\u001b[0m\u001b[0m\n",
      "\u001b[1;32m~\\Anaconda3\\lib\\site-packages\\selenium\\webdriver\\remote\\webelement.py\u001b[0m in \u001b[0;36m_execute\u001b[1;34m(self, command, params)\u001b[0m\n\u001b[0;32m    401\u001b[0m             \u001b[0mparams\u001b[0m \u001b[1;33m=\u001b[0m \u001b[1;33m{\u001b[0m\u001b[1;33m}\u001b[0m\u001b[1;33m\u001b[0m\u001b[1;33m\u001b[0m\u001b[0m\n\u001b[0;32m    402\u001b[0m         \u001b[0mparams\u001b[0m\u001b[1;33m[\u001b[0m\u001b[1;34m\"id\"\u001b[0m\u001b[1;33m]\u001b[0m \u001b[1;33m=\u001b[0m \u001b[0mself\u001b[0m\u001b[1;33m.\u001b[0m\u001b[0m_id\u001b[0m\u001b[1;33m\u001b[0m\u001b[1;33m\u001b[0m\u001b[0m\n\u001b[1;32m--> 403\u001b[1;33m         \u001b[1;32mreturn\u001b[0m \u001b[0mself\u001b[0m\u001b[1;33m.\u001b[0m\u001b[0m_parent\u001b[0m\u001b[1;33m.\u001b[0m\u001b[0mexecute\u001b[0m\u001b[1;33m(\u001b[0m\u001b[0mcommand\u001b[0m\u001b[1;33m,\u001b[0m \u001b[0mparams\u001b[0m\u001b[1;33m)\u001b[0m\u001b[1;33m\u001b[0m\u001b[1;33m\u001b[0m\u001b[0m\n\u001b[0m\u001b[0;32m    404\u001b[0m \u001b[1;33m\u001b[0m\u001b[0m\n\u001b[0;32m    405\u001b[0m     \u001b[1;32mdef\u001b[0m \u001b[0mfind_element\u001b[0m\u001b[1;33m(\u001b[0m\u001b[0mself\u001b[0m\u001b[1;33m,\u001b[0m \u001b[0mby\u001b[0m\u001b[1;33m=\u001b[0m\u001b[0mBy\u001b[0m\u001b[1;33m.\u001b[0m\u001b[0mID\u001b[0m\u001b[1;33m,\u001b[0m \u001b[0mvalue\u001b[0m\u001b[1;33m=\u001b[0m\u001b[1;32mNone\u001b[0m\u001b[1;33m)\u001b[0m \u001b[1;33m->\u001b[0m \u001b[0mWebElement\u001b[0m\u001b[1;33m:\u001b[0m\u001b[1;33m\u001b[0m\u001b[1;33m\u001b[0m\u001b[0m\n",
      "\u001b[1;32m~\\Anaconda3\\lib\\site-packages\\selenium\\webdriver\\remote\\webdriver.py\u001b[0m in \u001b[0;36mexecute\u001b[1;34m(self, driver_command, params)\u001b[0m\n\u001b[0;32m    438\u001b[0m         \u001b[0mresponse\u001b[0m \u001b[1;33m=\u001b[0m \u001b[0mself\u001b[0m\u001b[1;33m.\u001b[0m\u001b[0mcommand_executor\u001b[0m\u001b[1;33m.\u001b[0m\u001b[0mexecute\u001b[0m\u001b[1;33m(\u001b[0m\u001b[0mdriver_command\u001b[0m\u001b[1;33m,\u001b[0m \u001b[0mparams\u001b[0m\u001b[1;33m)\u001b[0m\u001b[1;33m\u001b[0m\u001b[1;33m\u001b[0m\u001b[0m\n\u001b[0;32m    439\u001b[0m         \u001b[1;32mif\u001b[0m \u001b[0mresponse\u001b[0m\u001b[1;33m:\u001b[0m\u001b[1;33m\u001b[0m\u001b[1;33m\u001b[0m\u001b[0m\n\u001b[1;32m--> 440\u001b[1;33m             \u001b[0mself\u001b[0m\u001b[1;33m.\u001b[0m\u001b[0merror_handler\u001b[0m\u001b[1;33m.\u001b[0m\u001b[0mcheck_response\u001b[0m\u001b[1;33m(\u001b[0m\u001b[0mresponse\u001b[0m\u001b[1;33m)\u001b[0m\u001b[1;33m\u001b[0m\u001b[1;33m\u001b[0m\u001b[0m\n\u001b[0m\u001b[0;32m    441\u001b[0m             \u001b[0mresponse\u001b[0m\u001b[1;33m[\u001b[0m\u001b[1;34m\"value\"\u001b[0m\u001b[1;33m]\u001b[0m \u001b[1;33m=\u001b[0m \u001b[0mself\u001b[0m\u001b[1;33m.\u001b[0m\u001b[0m_unwrap_value\u001b[0m\u001b[1;33m(\u001b[0m\u001b[0mresponse\u001b[0m\u001b[1;33m.\u001b[0m\u001b[0mget\u001b[0m\u001b[1;33m(\u001b[0m\u001b[1;34m\"value\"\u001b[0m\u001b[1;33m,\u001b[0m \u001b[1;32mNone\u001b[0m\u001b[1;33m)\u001b[0m\u001b[1;33m)\u001b[0m\u001b[1;33m\u001b[0m\u001b[1;33m\u001b[0m\u001b[0m\n\u001b[0;32m    442\u001b[0m             \u001b[1;32mreturn\u001b[0m \u001b[0mresponse\u001b[0m\u001b[1;33m\u001b[0m\u001b[1;33m\u001b[0m\u001b[0m\n",
      "\u001b[1;32m~\\Anaconda3\\lib\\site-packages\\selenium\\webdriver\\remote\\errorhandler.py\u001b[0m in \u001b[0;36mcheck_response\u001b[1;34m(self, response)\u001b[0m\n\u001b[0;32m    243\u001b[0m                 \u001b[0malert_text\u001b[0m \u001b[1;33m=\u001b[0m \u001b[0mvalue\u001b[0m\u001b[1;33m[\u001b[0m\u001b[1;34m\"alert\"\u001b[0m\u001b[1;33m]\u001b[0m\u001b[1;33m.\u001b[0m\u001b[0mget\u001b[0m\u001b[1;33m(\u001b[0m\u001b[1;34m\"text\"\u001b[0m\u001b[1;33m)\u001b[0m\u001b[1;33m\u001b[0m\u001b[1;33m\u001b[0m\u001b[0m\n\u001b[0;32m    244\u001b[0m             \u001b[1;32mraise\u001b[0m \u001b[0mexception_class\u001b[0m\u001b[1;33m(\u001b[0m\u001b[0mmessage\u001b[0m\u001b[1;33m,\u001b[0m \u001b[0mscreen\u001b[0m\u001b[1;33m,\u001b[0m \u001b[0mstacktrace\u001b[0m\u001b[1;33m,\u001b[0m \u001b[0malert_text\u001b[0m\u001b[1;33m)\u001b[0m  \u001b[1;31m# type: ignore[call-arg]  # mypy is not smart enough here\u001b[0m\u001b[1;33m\u001b[0m\u001b[1;33m\u001b[0m\u001b[0m\n\u001b[1;32m--> 245\u001b[1;33m         \u001b[1;32mraise\u001b[0m \u001b[0mexception_class\u001b[0m\u001b[1;33m(\u001b[0m\u001b[0mmessage\u001b[0m\u001b[1;33m,\u001b[0m \u001b[0mscreen\u001b[0m\u001b[1;33m,\u001b[0m \u001b[0mstacktrace\u001b[0m\u001b[1;33m)\u001b[0m\u001b[1;33m\u001b[0m\u001b[1;33m\u001b[0m\u001b[0m\n\u001b[0m",
      "\u001b[1;31mElementNotInteractableException\u001b[0m: Message: element not interactable\n  (Session info: chrome=109.0.5414.120)\nStacktrace:\nBacktrace:\n\t(No symbol) [0x007B6643]\n\t(No symbol) [0x0074BE21]\n\t(No symbol) [0x0064D960]\n\t(No symbol) [0x006823A7]\n\t(No symbol) [0x00676B13]\n\t(No symbol) [0x0069FD7C]\n\t(No symbol) [0x0067641F]\n\t(No symbol) [0x006A00D4]\n\t(No symbol) [0x006B6B09]\n\t(No symbol) [0x0069FB76]\n\t(No symbol) [0x006749C1]\n\t(No symbol) [0x00675E5D]\n\tGetHandleVerifier [0x00A2A142+2497106]\n\tGetHandleVerifier [0x00A585D3+2686691]\n\tGetHandleVerifier [0x00A5BB9C+2700460]\n\tGetHandleVerifier [0x00863B10+635936]\n\t(No symbol) [0x00754A1F]\n\t(No symbol) [0x0075A418]\n\t(No symbol) [0x0075A505]\n\t(No symbol) [0x0076508B]\n\tBaseThreadInitThunk [0x76A400F9+25]\n\tRtlGetAppContainerNamedObjectPath [0x770E7BBE+286]\n\tRtlGetAppContainerNamedObjectPath [0x770E7B8E+238]\n"
     ]
    }
   ],
   "source": [
    "driver.find_element(By.XPATH, f\"//*[@id='mainContent']/div[4]/nav/ul/li[5]/button\").click()"
   ]
  },
  {
   "cell_type": "code",
   "execution_count": 24,
   "id": "0eb9ba3a-d121-4f52-a299-41ee78d8424d",
   "metadata": {},
   "outputs": [
    {
     "data": {
      "text/plain": [
       "<button aria-label=\"Next page\" class=\"responsivePaginationNavigationButton paginationNavigationButtonNext\" data-direction=\"next\" title=\"Next page\">\n",
       "<svg class=\"\" height=\"24px\" version=\"1.1\" viewbox=\"0 0 24 24\" width=\"24px\" xmlns=\"http://www.w3.org/2000/svg\" xmlns:xlink=\"http://www.w3.org/1999/xlink\">\n",
       "<polygon points=\"16.1371072 15 12 10.7802414 7.86289277 15 6.5 13.6098793 12 8 17.5 13.6098793\"></polygon>\n",
       "</svg>\n",
       "</button>"
      ]
     },
     "execution_count": 24,
     "metadata": {},
     "output_type": "execute_result"
    }
   ],
   "source": [
    "mini_soup.find_all(\"button\", class_=\"responsivePaginationNavigationButton paginationNavigationButtonNext\")[0]"
   ]
  },
  {
   "cell_type": "code",
   "execution_count": 11,
   "id": "6f13826f-b4cd-446d-a471-7029918babbe",
   "metadata": {},
   "outputs": [
    {
     "name": "stderr",
     "output_type": "stream",
     "text": [
      "C:\\Users\\HAI\\AppData\\Local\\Temp/ipykernel_31332/1158170047.py:5: DeprecationWarning: executable_path has been deprecated, please pass in a Service object\n",
      "  driver = webdriver.Chrome(executable_path=\"C:\\chromedriver.exe\")\n"
     ]
    },
    {
     "name": "stdout",
     "output_type": "stream",
     "text": [
      "[<li class=\"athenaProductVariations_listItem\">\n",
      "<input class=\"athenaProductVariations_radio srf-hide\" data-linked-product-id=\"default\" data-radio=\"\" data-selected=\"\" data-variation-id=\"7\" name=\"productVariationRadioId7\" type=\"hidden\" value=\"5875\"/>\n",
      "<button class=\"athenaProductVariations_box default athenaProductVariationsOption\" data-linked-product-id=\"default\" data-option-barcode=\"\" data-option-id=\"5875\" data-option-image=\"\" data-option-optionexternalsku=\"\" data-option-price=\"\" data-option-value=\"\" data-selected=\"\" data-variation-id=\"7\" data-variation-unique-id=\"rb-5875\" type=\"button\">\n",
      "                        500 g\n",
      "                        <span class=\"srf-hide\"> Sélectionner</span>\n",
      "</button>\n",
      "</li>]\n",
      "QUANTITIES RANGE 1\n"
     ]
    }
   ],
   "source": [
    "import time\n",
    "\n",
    "url = \"https://fr.myprotein.com/nutrition-sportive/impact-whey-protein/10530943.html\"\n",
    "\n",
    "driver = webdriver.Chrome(executable_path=\"C:\\chromedriver.exe\")\n",
    "driver.implicitly_wait(0.5)\n",
    "driver.get(url)\n",
    "driver.find_element(By.ID, 'onetrust-accept-btn-handler').click()\n",
    "driver.find_element(By.XPATH, f\"//*[@id='product-description-heading-lg-8']\").click()\n",
    "\n",
    "response = requests.get(url)\n",
    "soup = BeautifulSoup(response.content ,\"lxml\")\n",
    "mini_soup = soup.find(\"main\")\n",
    "driver.find_element(By.XPATH, f\"//*[@id='athena-product-variation-dropdown-5']/option[{6}]\").click()\n",
    "time.sleep(0.5)\n",
    "temp_soup = BeautifulSoup(driver.page_source ,\"lxml\")\n",
    "temp_soup = temp_soup.find(\"main\")\n",
    "print(temp_soup.find_all(\"ul\", class_ = \"athenaProductVariations_list\")[0].find_all(\"li\"))\n",
    "quantities_range = len(temp_soup.find_all(\"ul\", class_ = \"athenaProductVariations_list\")[0].find_all(\"li\"))\n",
    "print(f\"QUANTITIES RANGE {quantities_range}\")"
   ]
  },
  {
   "cell_type": "markdown",
   "id": "de952721-c272-4ed3-923e-1c4c8ea95ba6",
   "metadata": {
    "tags": []
   },
   "source": [
    "##### t"
   ]
  },
  {
   "cell_type": "code",
   "execution_count": 4,
   "id": "1626e9b9-4b21-4029-bd1c-6d8b2852a2c3",
   "metadata": {
    "tags": []
   },
   "outputs": [],
   "source": [
    "response = requests.get(url)\n",
    "soup = BeautifulSoup(response.content ,\"lxml\")\n",
    "mini_soup = soup.find(\"main\")"
   ]
  },
  {
   "cell_type": "code",
   "execution_count": 9,
   "id": "8cf3c156-de46-47a2-85df-303f7f34a404",
   "metadata": {},
   "outputs": [
    {
     "data": {
      "text/plain": [
       "4"
      ]
     },
     "execution_count": 9,
     "metadata": {},
     "output_type": "execute_result"
    }
   ],
   "source": [
    "len(mini_soup.find_all(\"ul\", class_ = \"athenaProductVariations_list\")[0].find_all(\"li\"))"
   ]
  },
  {
   "cell_type": "code",
   "execution_count": 43,
   "id": "aad3dc58-7ca2-4b76-aef0-deee917b1c16",
   "metadata": {},
   "outputs": [],
   "source": []
  },
  {
   "cell_type": "code",
   "execution_count": null,
   "id": "ed3bd61a-839a-47b6-b056-48db7fc6852d",
   "metadata": {},
   "outputs": [],
   "source": []
  },
  {
   "cell_type": "code",
   "execution_count": null,
   "id": "75c18a3b-5b50-47d7-830c-8fb1e2143d20",
   "metadata": {},
   "outputs": [],
   "source": []
  },
  {
   "cell_type": "code",
   "execution_count": 20,
   "id": "99273d9b-cdfa-47c1-a9f1-2d4686924a29",
   "metadata": {},
   "outputs": [
    {
     "data": {
      "text/plain": [
       "'26,99 €'"
      ]
     },
     "execution_count": 20,
     "metadata": {},
     "output_type": "execute_result"
    }
   ],
   "source": [
    "soup.find(\"p\", class_=\"productPrice_price\").text.strip()"
   ]
  },
  {
   "cell_type": "code",
   "execution_count": 2,
   "id": "dcafd737-d937-4f0f-814f-05282229603b",
   "metadata": {},
   "outputs": [],
   "source": [
    "url = \"https://fr.myprotein.com/nutrition-sportive/impact-whey-protein/10530943.html\"\n",
    "response = requests.get(url)\n",
    "soup = BeautifulSoup(response.content ,\"lxml\")\n",
    "mini_soup = soup.find(\"main\")\n",
    "\n"
   ]
  },
  {
   "cell_type": "code",
   "execution_count": 3,
   "id": "d7257224-b07c-4401-9ccc-1da8b061e393",
   "metadata": {},
   "outputs": [
    {
     "data": {
      "text/plain": [
       "['8,99 €',\n",
       " 'Sans arôme ajouté',\n",
       " '250 g',\n",
       " 'Économisez: 3,00 €',\n",
       " 'Prix de détail conseillé : 11,99 €',\n",
       " \"Jusqu'à 60% + 10% en EXTRA\",\n",
       " 'Végétarien',\n",
       " '1740 \\xa0 kJ / 412 \\xa0 kcal',\n",
       " '7,5 g',\n",
       " '4,0 g',\n",
       " '82 g',\n",
       " '4.53',\n",
       " '5516 Avis Clients']"
      ]
     },
     "execution_count": 3,
     "metadata": {},
     "output_type": "execute_result"
    }
   ],
   "source": []
  },
  {
   "cell_type": "code",
   "execution_count": 23,
   "id": "a03bcd3f-29f4-45e7-be5c-eadae30f8def",
   "metadata": {},
   "outputs": [],
   "source": [
    "df = pd.DataFrame(columns = ['prix', 'arome', 'quantite', 'economies', 'prix original','promotion','régimes','energie','lipides','glucides','proteines','note','avis clients'])"
   ]
  },
  {
   "cell_type": "code",
   "execution_count": 24,
   "id": "06dda28e-ce44-44fe-8db0-f4dbfb6a913f",
   "metadata": {},
   "outputs": [],
   "source": [
    "df.loc[len(df)] = create_row(mini_soup)"
   ]
  },
  {
   "cell_type": "code",
   "execution_count": 26,
   "id": "e5c70a24-c36a-4bc4-a53c-5689572f9c56",
   "metadata": {},
   "outputs": [],
   "source": [
    "df.loc[len(df)] = create_row(mini_soup)"
   ]
  },
  {
   "cell_type": "code",
   "execution_count": 27,
   "id": "df62a6f0-f29e-449c-8ff7-5f20916052a0",
   "metadata": {},
   "outputs": [
    {
     "data": {
      "text/html": [
       "<div>\n",
       "<style scoped>\n",
       "    .dataframe tbody tr th:only-of-type {\n",
       "        vertical-align: middle;\n",
       "    }\n",
       "\n",
       "    .dataframe tbody tr th {\n",
       "        vertical-align: top;\n",
       "    }\n",
       "\n",
       "    .dataframe thead th {\n",
       "        text-align: right;\n",
       "    }\n",
       "</style>\n",
       "<table border=\"1\" class=\"dataframe\">\n",
       "  <thead>\n",
       "    <tr style=\"text-align: right;\">\n",
       "      <th></th>\n",
       "      <th>prix</th>\n",
       "      <th>arome</th>\n",
       "      <th>quantite</th>\n",
       "      <th>economies</th>\n",
       "      <th>prix original</th>\n",
       "      <th>promotion</th>\n",
       "      <th>régimes</th>\n",
       "      <th>energie</th>\n",
       "      <th>lipides</th>\n",
       "      <th>glucides</th>\n",
       "      <th>proteines</th>\n",
       "      <th>note</th>\n",
       "      <th>avis clients</th>\n",
       "    </tr>\n",
       "  </thead>\n",
       "  <tbody>\n",
       "    <tr>\n",
       "      <th>0</th>\n",
       "      <td>8,99 €</td>\n",
       "      <td>Sans arôme ajouté</td>\n",
       "      <td>250 g</td>\n",
       "      <td>Économisez: 3,00 €</td>\n",
       "      <td>Prix de détail conseillé : 11,99 €</td>\n",
       "      <td>Jusqu'à 60% + 10% en EXTRA</td>\n",
       "      <td>Végétarien</td>\n",
       "      <td>1740   kJ / 412   kcal</td>\n",
       "      <td>7,5 g</td>\n",
       "      <td>4,0 g</td>\n",
       "      <td>82 g</td>\n",
       "      <td>4.53</td>\n",
       "      <td>5516 Avis Clients</td>\n",
       "    </tr>\n",
       "    <tr>\n",
       "      <th>1</th>\n",
       "      <td>8,99 €</td>\n",
       "      <td>Sans arôme ajouté</td>\n",
       "      <td>250 g</td>\n",
       "      <td>Économisez: 3,00 €</td>\n",
       "      <td>Prix de détail conseillé : 11,99 €</td>\n",
       "      <td>Jusqu'à 60% + 10% en EXTRA</td>\n",
       "      <td>Végétarien</td>\n",
       "      <td>1740   kJ / 412   kcal</td>\n",
       "      <td>7,5 g</td>\n",
       "      <td>4,0 g</td>\n",
       "      <td>82 g</td>\n",
       "      <td>4.53</td>\n",
       "      <td>5516 Avis Clients</td>\n",
       "    </tr>\n",
       "  </tbody>\n",
       "</table>\n",
       "</div>"
      ],
      "text/plain": [
       "     prix              arome quantite           economies  \\\n",
       "0  8,99 €  Sans arôme ajouté    250 g  Économisez: 3,00 €   \n",
       "1  8,99 €  Sans arôme ajouté    250 g  Économisez: 3,00 €   \n",
       "\n",
       "                        prix original                   promotion     régimes  \\\n",
       "0  Prix de détail conseillé : 11,99 €  Jusqu'à 60% + 10% en EXTRA  Végétarien   \n",
       "1  Prix de détail conseillé : 11,99 €  Jusqu'à 60% + 10% en EXTRA  Végétarien   \n",
       "\n",
       "                  energie lipides glucides proteines  note       avis clients  \n",
       "0  1740   kJ / 412   kcal   7,5 g    4,0 g      82 g  4.53  5516 Avis Clients  \n",
       "1  1740   kJ / 412   kcal   7,5 g    4,0 g      82 g  4.53  5516 Avis Clients  "
      ]
     },
     "execution_count": 27,
     "metadata": {},
     "output_type": "execute_result"
    }
   ],
   "source": [
    "df"
   ]
  },
  {
   "cell_type": "code",
   "execution_count": 39,
   "id": "8e6e97c3-9941-45b2-ab23-56862246e80c",
   "metadata": {},
   "outputs": [],
   "source": [
    "l.extend([2,3,4,5])"
   ]
  },
  {
   "cell_type": "code",
   "execution_count": 40,
   "id": "4267481d-ac38-410c-91ee-e756b2feb184",
   "metadata": {},
   "outputs": [
    {
     "data": {
      "text/plain": [
       "[2, 3, 4, 5]"
      ]
     },
     "execution_count": 40,
     "metadata": {},
     "output_type": "execute_result"
    }
   ],
   "source": [
    "l"
   ]
  },
  {
   "cell_type": "code",
   "execution_count": null,
   "id": "a2bea204-651e-421a-b0bd-7e512af61fcf",
   "metadata": {},
   "outputs": [],
   "source": [
    "//*[@id=\"product-description-content-8\"]/div/div/div/table/tbody/tr[4]/td[2]"
   ]
  },
  {
   "cell_type": "code",
   "execution_count": null,
   "id": "f85b9e2d-6674-4e1f-9be7-9ef3475cc526",
   "metadata": {},
   "outputs": [],
   "source": [
    "//*[@id=\"product-description-content-8\"]/div/div/div/table/tbody/tr[6]/td[2]"
   ]
  },
  {
   "cell_type": "code",
   "execution_count": null,
   "id": "c649658d-b60f-4542-97b2-eecfbe778ff1",
   "metadata": {},
   "outputs": [],
   "source": [
    "//*[@id=\"product-description-content-8\"]/div/div/div/table/tbody/tr[1]/td[2]"
   ]
  },
  {
   "cell_type": "code",
   "execution_count": 33,
   "id": "95d99424-77fb-4d67-b318-5db1f9c44145",
   "metadata": {},
   "outputs": [],
   "source": []
  },
  {
   "cell_type": "code",
   "execution_count": 34,
   "id": "179f410c-949e-48d0-b14a-ba9848bb8096",
   "metadata": {},
   "outputs": [
    {
     "data": {
      "text/plain": [
       "'5516 Avis Clients'"
      ]
     },
     "execution_count": 34,
     "metadata": {},
     "output_type": "execute_result"
    }
   ],
   "source": [
    "avis_clients"
   ]
  },
  {
   "cell_type": "code",
   "execution_count": 5,
   "id": "9a542e3d-a9f3-4f01-a304-33cf262edee0",
   "metadata": {},
   "outputs": [
    {
     "data": {
      "text/html": [
       "<div>\n",
       "<style scoped>\n",
       "    .dataframe tbody tr th:only-of-type {\n",
       "        vertical-align: middle;\n",
       "    }\n",
       "\n",
       "    .dataframe tbody tr th {\n",
       "        vertical-align: top;\n",
       "    }\n",
       "\n",
       "    .dataframe thead th {\n",
       "        text-align: right;\n",
       "    }\n",
       "</style>\n",
       "<table border=\"1\" class=\"dataframe\">\n",
       "  <thead>\n",
       "    <tr style=\"text-align: right;\">\n",
       "      <th></th>\n",
       "      <th>prix</th>\n",
       "      <th>arome</th>\n",
       "      <th>quantite</th>\n",
       "      <th>economies</th>\n",
       "      <th>prix original</th>\n",
       "      <th>promotion</th>\n",
       "      <th>régimes</th>\n",
       "      <th>energie</th>\n",
       "      <th>lipides</th>\n",
       "      <th>glucides</th>\n",
       "      <th>proteines</th>\n",
       "      <th>note</th>\n",
       "      <th>avis clients</th>\n",
       "    </tr>\n",
       "  </thead>\n",
       "  <tbody>\n",
       "    <tr>\n",
       "      <th>0</th>\n",
       "      <td>26,99 €</td>\n",
       "      <td>Banane</td>\n",
       "      <td>1 kg\\n                         Sélectionner</td>\n",
       "      <td>Économisez: 11,00 €</td>\n",
       "      <td>Prix de détail conseillé : 37,99 €</td>\n",
       "      <td>Jusqu'à 60% + 10% en EXTRA</td>\n",
       "      <td>Végétarien/Sans Gluten</td>\n",
       "      <td>1740   kJ / 412   kcal</td>\n",
       "      <td>7,5 g</td>\n",
       "      <td>4,0 g</td>\n",
       "      <td>82 g</td>\n",
       "      <td>4.53</td>\n",
       "      <td>5516 Avis Clients</td>\n",
       "    </tr>\n",
       "    <tr>\n",
       "      <th>1</th>\n",
       "      <td>60,99 €</td>\n",
       "      <td>Banane</td>\n",
       "      <td>2.5 kg\\n                         Sélectionner</td>\n",
       "      <td>Économisez: 24,00 €</td>\n",
       "      <td>Prix de détail conseillé : 84,99 €</td>\n",
       "      <td>Jusqu'à 60% + 10% en EXTRA</td>\n",
       "      <td>Végétarien/Sans Gluten</td>\n",
       "      <td>1740   kJ / 412   kcal</td>\n",
       "      <td>7,5 g</td>\n",
       "      <td>4,0 g</td>\n",
       "      <td>82 g</td>\n",
       "      <td>4.53</td>\n",
       "      <td>5516 Avis Clients</td>\n",
       "    </tr>\n",
       "    <tr>\n",
       "      <th>2</th>\n",
       "      <td>8,99 €</td>\n",
       "      <td>Banane</td>\n",
       "      <td>250 g\\n                         Sélectionner</td>\n",
       "      <td>Économisez: 3,00 €</td>\n",
       "      <td>Prix de détail conseillé : 11,99 €</td>\n",
       "      <td>Jusqu'à 60% + 10% en EXTRA</td>\n",
       "      <td>Végétarien/Sans Gluten</td>\n",
       "      <td>1740   kJ / 412   kcal</td>\n",
       "      <td>7,5 g</td>\n",
       "      <td>4,0 g</td>\n",
       "      <td>82 g</td>\n",
       "      <td>4.53</td>\n",
       "      <td>5516 Avis Clients</td>\n",
       "    </tr>\n",
       "    <tr>\n",
       "      <th>3</th>\n",
       "      <td>15,99 €</td>\n",
       "      <td>Banane</td>\n",
       "      <td>500 g\\n                         Sélectionner</td>\n",
       "      <td>Économisez: 6,00 €</td>\n",
       "      <td>Prix de détail conseillé : 21,99 €</td>\n",
       "      <td>Jusqu'à 60% + 10% en EXTRA</td>\n",
       "      <td>Végétarien/Sans Gluten</td>\n",
       "      <td>1740   kJ / 412   kcal</td>\n",
       "      <td>7,5 g</td>\n",
       "      <td>4,0 g</td>\n",
       "      <td>82 g</td>\n",
       "      <td>4.53</td>\n",
       "      <td>5516 Avis Clients</td>\n",
       "    </tr>\n",
       "    <tr>\n",
       "      <th>4</th>\n",
       "      <td>26,99 €</td>\n",
       "      <td>Café Caramel</td>\n",
       "      <td>1 kg\\n                         Sélectionner</td>\n",
       "      <td>Économisez: 11,00 €</td>\n",
       "      <td>Prix de détail conseillé : 37,99 €</td>\n",
       "      <td>Jusqu'à 60% + 10% en EXTRA</td>\n",
       "      <td>Végétarien/Sans Gluten</td>\n",
       "      <td>1740   kJ / 412   kcal</td>\n",
       "      <td>7,5 g</td>\n",
       "      <td>4,0 g</td>\n",
       "      <td>82 g</td>\n",
       "      <td>4.53</td>\n",
       "      <td>5516 Avis Clients</td>\n",
       "    </tr>\n",
       "    <tr>\n",
       "      <th>5</th>\n",
       "      <td>60,99 €</td>\n",
       "      <td>Café Caramel</td>\n",
       "      <td>2.5 kg\\n                         Sélectionner</td>\n",
       "      <td>Économisez: 24,00 €</td>\n",
       "      <td>Prix de détail conseillé : 84,99 €</td>\n",
       "      <td>Jusqu'à 60% + 10% en EXTRA</td>\n",
       "      <td>Végétarien/Sans Gluten</td>\n",
       "      <td>1740   kJ / 412   kcal</td>\n",
       "      <td>7,5 g</td>\n",
       "      <td>4,0 g</td>\n",
       "      <td>82 g</td>\n",
       "      <td>4.53</td>\n",
       "      <td>5516 Avis Clients</td>\n",
       "    </tr>\n",
       "  </tbody>\n",
       "</table>\n",
       "</div>"
      ],
      "text/plain": [
       "      prix         arome                                       quantite  \\\n",
       "0  26,99 €        Banane    1 kg\\n                         Sélectionner   \n",
       "1  60,99 €        Banane  2.5 kg\\n                         Sélectionner   \n",
       "2   8,99 €        Banane   250 g\\n                         Sélectionner   \n",
       "3  15,99 €        Banane   500 g\\n                         Sélectionner   \n",
       "4  26,99 €  Café Caramel    1 kg\\n                         Sélectionner   \n",
       "5  60,99 €  Café Caramel  2.5 kg\\n                         Sélectionner   \n",
       "\n",
       "             economies                       prix original  \\\n",
       "0  Économisez: 11,00 €  Prix de détail conseillé : 37,99 €   \n",
       "1  Économisez: 24,00 €  Prix de détail conseillé : 84,99 €   \n",
       "2   Économisez: 3,00 €  Prix de détail conseillé : 11,99 €   \n",
       "3   Économisez: 6,00 €  Prix de détail conseillé : 21,99 €   \n",
       "4  Économisez: 11,00 €  Prix de détail conseillé : 37,99 €   \n",
       "5  Économisez: 24,00 €  Prix de détail conseillé : 84,99 €   \n",
       "\n",
       "                    promotion                 régimes                 energie  \\\n",
       "0  Jusqu'à 60% + 10% en EXTRA  Végétarien/Sans Gluten  1740   kJ / 412   kcal   \n",
       "1  Jusqu'à 60% + 10% en EXTRA  Végétarien/Sans Gluten  1740   kJ / 412   kcal   \n",
       "2  Jusqu'à 60% + 10% en EXTRA  Végétarien/Sans Gluten  1740   kJ / 412   kcal   \n",
       "3  Jusqu'à 60% + 10% en EXTRA  Végétarien/Sans Gluten  1740   kJ / 412   kcal   \n",
       "4  Jusqu'à 60% + 10% en EXTRA  Végétarien/Sans Gluten  1740   kJ / 412   kcal   \n",
       "5  Jusqu'à 60% + 10% en EXTRA  Végétarien/Sans Gluten  1740   kJ / 412   kcal   \n",
       "\n",
       "  lipides glucides proteines  note       avis clients  \n",
       "0   7,5 g    4,0 g      82 g  4.53  5516 Avis Clients  \n",
       "1   7,5 g    4,0 g      82 g  4.53  5516 Avis Clients  \n",
       "2   7,5 g    4,0 g      82 g  4.53  5516 Avis Clients  \n",
       "3   7,5 g    4,0 g      82 g  4.53  5516 Avis Clients  \n",
       "4   7,5 g    4,0 g      82 g  4.53  5516 Avis Clients  \n",
       "5   7,5 g    4,0 g      82 g  4.53  5516 Avis Clients  "
      ]
     },
     "execution_count": 5,
     "metadata": {},
     "output_type": "execute_result"
    }
   ],
   "source": [
    "df"
   ]
  },
  {
   "cell_type": "code",
   "execution_count": null,
   "id": "190fdbea-801f-44b0-96d2-180b1159f3c5",
   "metadata": {},
   "outputs": [],
   "source": []
  }
 ],
 "metadata": {
  "kernelspec": {
   "display_name": "webscraping",
   "language": "python",
   "name": "webscraping"
  },
  "language_info": {
   "codemirror_mode": {
    "name": "ipython",
    "version": 3
   },
   "file_extension": ".py",
   "mimetype": "text/x-python",
   "name": "python",
   "nbconvert_exporter": "python",
   "pygments_lexer": "ipython3",
   "version": "3.9.7"
  }
 },
 "nbformat": 4,
 "nbformat_minor": 5
}
